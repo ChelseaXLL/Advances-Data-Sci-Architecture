{
 "cells": [
  {
   "cell_type": "code",
   "execution_count": 9,
   "metadata": {
    "scrolled": true
   },
   "outputs": [
    {
     "data": {
      "text/plain": [
       "'C:\\\\Users\\\\josef\\\\Desktop\\\\7390\\\\Project\\\\data'"
      ]
     },
     "execution_count": 9,
     "metadata": {},
     "output_type": "execute_result"
    }
   ],
   "source": [
    "%pwd"
   ]
  },
  {
   "cell_type": "code",
   "execution_count": 14,
   "metadata": {},
   "outputs": [
    {
     "name": "stderr",
     "output_type": "stream",
     "text": [
      "C:\\Users\\josef\\Anaconda3\\lib\\site-packages\\ipykernel_launcher.py:5: DeprecationWarning: 'U' mode is deprecated\n",
      "  \"\"\"\n"
     ]
    },
    {
     "name": "stdout",
     "output_type": "stream",
     "text": [
      "JSON parsed!\n",
      "JSON saved!\n"
     ]
    }
   ],
   "source": [
    "import csv  \n",
    "import json  \n",
    "  \n",
    "f = open( 'pekora.csv ', 'rU' )  \n",
    "reader = csv.DictReader( f, fieldnames = ( \"train_id\",\"name\",\"item_condition_id\",\"category_name\",\"brand_name\",\"price\",\"shipping\",\"item_description\" ))  \n",
    "out = json.dumps( [ row for row in reader ] )  \n",
    "print(\"JSON parsed!\")  \n",
    "f = open( 'C:\\\\Users\\\\josef\\\\Desktop\\\\7390\\\\Project\\\\data\\\\parsed.json', 'w')  \n",
    "f.write(out)  \n",
    "print (\"JSON saved!\" ) "
   ]
  }
 ],
 "metadata": {
  "kernelspec": {
   "display_name": "Python 3",
   "language": "python",
   "name": "python3"
  },
  "language_info": {
   "codemirror_mode": {
    "name": "ipython",
    "version": 3
   },
   "file_extension": ".py",
   "mimetype": "text/x-python",
   "name": "python",
   "nbconvert_exporter": "python",
   "pygments_lexer": "ipython3",
   "version": "3.6.3"
  }
 },
 "nbformat": 4,
 "nbformat_minor": 2
}
